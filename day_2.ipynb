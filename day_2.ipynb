{
 "cells": [
  {
   "cell_type": "code",
   "execution_count": 1,
   "metadata": {},
   "outputs": [],
   "source": [
    "import csv\n",
    "import itertools"
   ]
  },
  {
   "cell_type": "code",
   "execution_count": 2,
   "metadata": {},
   "outputs": [],
   "source": [
    "test = [\n",
    "    [5,1,9,5],\n",
    "    [7,5,3],\n",
    "    [2,4,6,8]\n",
    "]"
   ]
  },
  {
   "cell_type": "code",
   "execution_count": 3,
   "metadata": {},
   "outputs": [
    {
     "data": {
      "text/plain": [
       "32121"
      ]
     },
     "execution_count": 3,
     "metadata": {},
     "output_type": "execute_result"
    }
   ],
   "source": [
    "check_sum = 0\n",
    "\n",
    "with open('inputs/day_2.txt','r') as prod:\n",
    "    reader = csv.reader(prod, delimiter='\\t')\n",
    "\n",
    "    for row in reader:\n",
    "        row = list(map(int, row))\n",
    "        #print(int(max(row)) - int(min(row)))\n",
    "        check_sum += (int(max(row)) - int(min(row)))\n",
    "    \n",
    "check_sum"
   ]
  },
  {
   "cell_type": "code",
   "execution_count": 4,
   "metadata": {},
   "outputs": [],
   "source": [
    "test_2 = [\n",
    "    [5, 9, 2, 8],\n",
    "    [9, 4, 7, 3],\n",
    "    [3, 8, 6, 5],\n",
    "]"
   ]
  },
  {
   "cell_type": "code",
   "execution_count": 5,
   "metadata": {},
   "outputs": [],
   "source": [
    "def check_mod(x, y):\n",
    "    return x/y if x%y == 0 else 0"
   ]
  },
  {
   "cell_type": "code",
   "execution_count": 6,
   "metadata": {},
   "outputs": [
    {
     "data": {
      "text/plain": [
       "197.0"
      ]
     },
     "execution_count": 6,
     "metadata": {},
     "output_type": "execute_result"
    }
   ],
   "source": [
    "checksum_2 = 0\n",
    "\n",
    "with open('inputs/day_2.txt','r') as prod:\n",
    "    reader = csv.reader(prod, delimiter='\\t')\n",
    "\n",
    "    for row in reader:\n",
    "        unique_row = list(set(map(int, row)))\n",
    "\n",
    "        unique_row.sort(reverse=True)\n",
    "        \n",
    "        for a, b in itertools.combinations(unique_row, 2):\n",
    "            check = check_mod(a, b)\n",
    "            #print(\"comparining {0} to {1}: {2}\".format(a, b, check))\n",
    "            checksum_2 += check\n",
    "        \n",
    "checksum_2"
   ]
  }
 ],
 "metadata": {
  "kernelspec": {
   "display_name": "Python 3",
   "language": "python",
   "name": "python3"
  },
  "language_info": {
   "codemirror_mode": {
    "name": "ipython",
    "version": 3
   },
   "file_extension": ".py",
   "mimetype": "text/x-python",
   "name": "python",
   "nbconvert_exporter": "python",
   "pygments_lexer": "ipython3",
   "version": "3.6.1"
  }
 },
 "nbformat": 4,
 "nbformat_minor": 2
}
