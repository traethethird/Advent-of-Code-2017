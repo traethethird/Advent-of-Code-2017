{
 "cells": [
  {
   "cell_type": "code",
   "execution_count": 1,
   "metadata": {},
   "outputs": [],
   "source": [
    "import csv\n",
    "import itertools"
   ]
  },
  {
   "cell_type": "code",
   "execution_count": 2,
   "metadata": {},
   "outputs": [
    {
     "name": "stdout",
     "output_type": "stream",
     "text": [
      "325\n"
     ]
    }
   ],
   "source": [
    "valid = 0\n",
    "\n",
    "with open('inputs/day_4.txt','r') as passphrases:\n",
    "    reader = csv.reader(passphrases, delimiter=' ')\n",
    "\n",
    "    for row in reader:\n",
    "        if len(row) == len(set(row)):\n",
    "            valid += 1\n",
    "            \n",
    "print(valid)"
   ]
  },
  {
   "cell_type": "code",
   "execution_count": 3,
   "metadata": {},
   "outputs": [
    {
     "name": "stdout",
     "output_type": "stream",
     "text": [
      "119\n"
     ]
    }
   ],
   "source": [
    "valid = 0\n",
    "\n",
    "with open('inputs/day_4.txt','r') as passphrases:\n",
    "    reader = csv.reader(passphrases, delimiter=' ')\n",
    "\n",
    "    for row in reader:\n",
    "        if len(row) == len(set(row)):\n",
    "\n",
    "            anagrams = 0\n",
    "            \n",
    "            for a, b in itertools.combinations(row, 2):\n",
    "                if (''.join(sorted(a)) == ''.join(sorted(b))):\n",
    "                    anagrams += 1\n",
    "            \n",
    "            if anagrams == 0:\n",
    "                valid += 1\n",
    "                \n",
    "print(valid)"
   ]
  }
 ],
 "metadata": {
  "kernelspec": {
   "display_name": "Python 3",
   "language": "python",
   "name": "python3"
  },
  "language_info": {
   "codemirror_mode": {
    "name": "ipython",
    "version": 3
   },
   "file_extension": ".py",
   "mimetype": "text/x-python",
   "name": "python",
   "nbconvert_exporter": "python",
   "pygments_lexer": "ipython3",
   "version": "3.6.1"
  }
 },
 "nbformat": 4,
 "nbformat_minor": 2
}
