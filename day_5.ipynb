{
 "cells": [
  {
   "cell_type": "code",
   "execution_count": 1,
   "metadata": {},
   "outputs": [],
   "source": [
    "import csv"
   ]
  },
  {
   "cell_type": "code",
   "execution_count": 2,
   "metadata": {},
   "outputs": [],
   "source": [
    "jump_list = []\n",
    "\n",
    "with open('inputs/day_5.txt','r') as jumps:\n",
    "    reader = csv.reader(jumps, delimiter=',')\n",
    "    for row in reader:\n",
    "        jump_list.extend(row)\n",
    "\n",
    "jump_list = list(map(int, jump_list))"
   ]
  },
  {
   "cell_type": "code",
   "execution_count": 3,
   "metadata": {},
   "outputs": [],
   "source": [
    "bk_jump = jump_list\n",
    "#jump_list = bk_jump"
   ]
  },
  {
   "cell_type": "code",
   "execution_count": 4,
   "metadata": {},
   "outputs": [
    {
     "name": "stdout",
     "output_type": "stream",
     "text": [
      "It took 26889114 jumps to escape\n"
     ]
    }
   ],
   "source": [
    "old_index = 0\n",
    "count = 0\n",
    "\n",
    "#test = [0, 3,  0,  1,  -3]\n",
    "#jump_list = test\n",
    "\n",
    "try:\n",
    "    while True:\n",
    "        #print(test)\n",
    "        #print(\"Started @ {0}; Value of {1}\".format(old_index, jump_list[old_index]))\n",
    "        \n",
    "        new_index = old_index + jump_list[old_index]\n",
    "        \n",
    "        if jump_list[old_index] >= 3:\n",
    "            jump_list[old_index] = jump_list[old_index] - 1\n",
    "        else:\n",
    "            jump_list[old_index] = jump_list[old_index] + 1\n",
    "        \n",
    "        #print(\"Started @ {0}; Going to {1}\".format(old_index, new_index))\n",
    "        \n",
    "        old_index = new_index\n",
    "\n",
    "        count += 1\n",
    "except IndexError:\n",
    "    print ('It took {0} jumps to escape'.format(count))"
   ]
  }
 ],
 "metadata": {
  "kernelspec": {
   "display_name": "Python 3",
   "language": "python",
   "name": "python3"
  },
  "language_info": {
   "codemirror_mode": {
    "name": "ipython",
    "version": 3
   },
   "file_extension": ".py",
   "mimetype": "text/x-python",
   "name": "python",
   "nbconvert_exporter": "python",
   "pygments_lexer": "ipython3",
   "version": "3.6.1"
  }
 },
 "nbformat": 4,
 "nbformat_minor": 2
}
