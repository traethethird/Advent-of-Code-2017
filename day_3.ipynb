{
 "cells": [
  {
   "cell_type": "code",
   "execution_count": 1,
   "metadata": {},
   "outputs": [],
   "source": [
    "from collections import OrderedDict"
   ]
  },
  {
   "cell_type": "code",
   "execution_count": 2,
   "metadata": {},
   "outputs": [],
   "source": [
    "test_dict = {\n",
    "    1 : 0,\n",
    "    12 : 3,\n",
    "    23 : 2,\n",
    "    1024 : 31,\n",
    "}"
   ]
  },
  {
   "cell_type": "code",
   "execution_count": 3,
   "metadata": {},
   "outputs": [],
   "source": [
    "def squares(n):\n",
    "    num = 1\n",
    "    while (num * num) < n:\n",
    "        \n",
    "        yield num\n",
    "        num += 2"
   ]
  },
  {
   "cell_type": "code",
   "execution_count": 4,
   "metadata": {},
   "outputs": [],
   "source": [
    "def get_distance(n):\n",
    "    if n == 1:\n",
    "        return 0\n",
    "    else:\n",
    "        square_g = squares(n)\n",
    "        #max_square = max(square_g)\n",
    "        max_square = (max(square_g) + 2) ** 2\n",
    "        \n",
    "        square_g = squares(n)\n",
    "        ring = sum(1 for i in square_g) + 1\n",
    "        print(\"Located on ring # {0}\".format(ring))\n",
    "\n",
    "        #max_square = (ring + 2) * (ring + 2)\n",
    "        print(\"SE corner (highest ring value) = {0}\".format(max_square))\n",
    "        \n",
    "        len_side = 1 + ((ring - 1) * 2)\n",
    "        half_side = (len_side - 1) / 2\n",
    "\n",
    "        avenues = [max_square - (7 * half_side), max_square - (5 * half_side), \n",
    "                   max_square - (3 * half_side), max_square - (half_side)]\n",
    "\n",
    "        \n",
    "        print(avenues)\n",
    "        \n",
    "        closest_ave = min(avenues, key=lambda x:abs(x-n))\n",
    "\n",
    "        ring_walk = abs(closest_ave - n)\n",
    "        print(\"Distance to nearest avenue: {0}\".format(ring_walk))\n",
    "\n",
    "        return (ring_walk + (ring -1))"
   ]
  },
  {
   "cell_type": "code",
   "execution_count": 5,
   "metadata": {},
   "outputs": [],
   "source": [
    "n = 289326"
   ]
  },
  {
   "cell_type": "code",
   "execution_count": 6,
   "metadata": {},
   "outputs": [
    {
     "name": "stdout",
     "output_type": "stream",
     "text": [
      "Testing! Hopefully the distance calced for 1 is 0... 0\n",
      "Located on ring # 3\n",
      "SE corner (highest ring value) = 25\n",
      "[11.0, 15.0, 19.0, 23.0]\n",
      "Distance to nearest avenue: 1.0\n",
      "Testing! Hopefully the distance calced for 12 is 3... 3.0\n",
      "Located on ring # 3\n",
      "SE corner (highest ring value) = 25\n",
      "[11.0, 15.0, 19.0, 23.0]\n",
      "Distance to nearest avenue: 0.0\n",
      "Testing! Hopefully the distance calced for 23 is 2... 2.0\n",
      "Located on ring # 17\n",
      "SE corner (highest ring value) = 1089\n",
      "[977.0, 1009.0, 1041.0, 1073.0]\n",
      "Distance to nearest avenue: 15.0\n",
      "Testing! Hopefully the distance calced for 1024 is 31... 31.0\n"
     ]
    }
   ],
   "source": [
    "#get_distance(12)\n",
    "for key, value in test_dict.items():\n",
    "    print(\"Testing! Hopefully the distance calced for {0} is {1}... {2}\".format(key, value, get_distance(key)))"
   ]
  },
  {
   "cell_type": "code",
   "execution_count": 7,
   "metadata": {},
   "outputs": [
    {
     "name": "stdout",
     "output_type": "stream",
     "text": [
      "Located on ring # 270\n",
      "SE corner (highest ring value) = 290521\n",
      "[288638.0, 289176.0, 289714.0, 290252.0]\n",
      "Distance to nearest avenue: 150.0\n",
      "Testing! Hopefully the distance calced for 289326 is ???... 419.0\n"
     ]
    }
   ],
   "source": [
    "print(\"Testing! Hopefully the distance calced for {0} is {1}... {2}\".format(n, \"???\", get_distance(n)))"
   ]
  },
  {
   "cell_type": "code",
   "execution_count": 8,
   "metadata": {},
   "outputs": [],
   "source": [
    "check_coords = {\n",
    "    'left' : [0,-1],\n",
    "    'down' : [1,0],\n",
    "    'right' : [0,1],\n",
    "    'up' : [-1,0],\n",
    "}\n",
    "\n",
    "check_next = {\n",
    "    'left' : 'down',\n",
    "    'down' : 'right',\n",
    "    'right' : 'up',\n",
    "    'up' : 'left',\n",
    "}\n",
    "\n",
    "continue_coords = {\n",
    "    'left' : [-1,0],\n",
    "    'down' : [0,-1],\n",
    "    'right' : [1,0],\n",
    "    'up' : [0,1],\n",
    "}"
   ]
  },
  {
   "cell_type": "code",
   "execution_count": 9,
   "metadata": {},
   "outputs": [],
   "source": [
    "def calc_next_point(x, y, last):\n",
    "    \n",
    "    check = check_coords[last]\n",
    "    \n",
    "    try:\n",
    "        grid[(x + check[0], y + check[1])]\n",
    "        \n",
    "        cont = continue_coords[last]\n",
    "        \n",
    "        return((x + cont[0], y + cont[1], last))\n",
    "    except KeyError:\n",
    "        next_last = check_next[last]\n",
    "        \n",
    "        return((x + check[0], y + check[1], next_last))\n",
    "\n",
    "# if moving left, check down, if not go left\n",
    "# if moving down, check right, if not go down\n",
    "# if moving right, check up, if not go right\n",
    "# if moving up, check left, if not go up"
   ]
  },
  {
   "cell_type": "code",
   "execution_count": 10,
   "metadata": {},
   "outputs": [],
   "source": [
    "def get_point_value(x, y):\n",
    "    try:\n",
    "        return grid[(x,y)]\n",
    "    except KeyError:\n",
    "        return 0\n",
    "\n",
    "def calc_value(x, y):\n",
    "    # add the value of every point around this point\n",
    "    top_left = get_point_value(x-1, y+1)\n",
    "    top_middle = get_point_value(x, y+1)\n",
    "    top_right = get_point_value(x+1, y+1)\n",
    "    center_left = get_point_value(x-1, y)\n",
    "    center_right = get_point_value(x+1, y)\n",
    "    bottom_left = get_point_value(x-1, y-1)\n",
    "    bottom_middle = get_point_value(x, y-1)\n",
    "    bottom_right = get_point_value(x+1, y-1)\n",
    "    \n",
    "    total = (top_left + top_middle + top_right + center_left + center_right + \n",
    "             bottom_left + bottom_middle + bottom_right)    \n",
    "    \n",
    "    return total"
   ]
  },
  {
   "cell_type": "code",
   "execution_count": 11,
   "metadata": {},
   "outputs": [],
   "source": [
    "grid = OrderedDict()\n",
    "\n",
    "grid[(0,0)] = 1\n",
    "grid[(1,0)] = 1\n",
    "\n",
    "grid_w_direction = OrderedDict()\n",
    "\n",
    "grid_w_direction[(0,0,None)] = 1\n",
    "grid_w_direction[(1,0,'right')] = 1"
   ]
  },
  {
   "cell_type": "code",
   "execution_count": 12,
   "metadata": {},
   "outputs": [],
   "source": [
    "point_value = 0\n",
    "\n",
    "while point_value < n:\n",
    "    last_point = next(reversed(grid_w_direction))\n",
    "    \n",
    "    next_point = calc_next_point(last_point[0], last_point[1], last_point[2])\n",
    "    \n",
    "    point_value = calc_value(next_point[0], next_point[1])\n",
    "    \n",
    "    grid[(next_point[0], next_point[1])] = point_value\n",
    "    grid_w_direction[(next_point[0], next_point[1], next_point[2])] = point_value"
   ]
  },
  {
   "cell_type": "code",
   "execution_count": 13,
   "metadata": {},
   "outputs": [
    {
     "name": "stdout",
     "output_type": "stream",
     "text": [
      "295229\n"
     ]
    }
   ],
   "source": [
    "answer_index = next(reversed(grid))\n",
    "print(grid[answer_index])"
   ]
  }
 ],
 "metadata": {
  "kernelspec": {
   "display_name": "Python 3",
   "language": "python",
   "name": "python3"
  },
  "language_info": {
   "codemirror_mode": {
    "name": "ipython",
    "version": 3
   },
   "file_extension": ".py",
   "mimetype": "text/x-python",
   "name": "python",
   "nbconvert_exporter": "python",
   "pygments_lexer": "ipython3",
   "version": "3.6.1"
  }
 },
 "nbformat": 4,
 "nbformat_minor": 2
}
